{
 "cells": [
  {
   "cell_type": "code",
   "execution_count": null,
   "metadata": {},
   "outputs": [],
   "source": [
    "from __future__ import print_function\n",
    "import matplotlib.pyplot as plt\n",
    "%matplotlib inline\n",
    "\n",
    "import os\n",
    "import numpy as np\n",
    "import torch\n",
    "import time\n",
    "\n",
    "from skimage.measure import compare_psnr\n",
    "from utils.demosaicing_utils import *\n",
    "\n",
    "import colour_demosaicing\n",
    "imsize = -1\n",
    "pattern='rggb'\n",
    "PLOT = True"
   ]
  },
  {
   "cell_type": "code",
   "execution_count": null,
   "metadata": {},
   "outputs": [],
   "source": [
    "fname='data/kodak/kodim19.png' "
   ]
  },
  {
   "cell_type": "code",
   "execution_count": null,
   "metadata": {},
   "outputs": [],
   "source": [
    "img_pil = Image.open(fname)\n",
    "RGB = np.array(img_pil)\n",
    "img_np = RGB.transpose(2,0,1)\n",
    "CFA = colour_demosaicing.mosaicing_CFA_Bayer(RGB, pattern=u'RGGB')\n",
    "def bayer(CFA):\n",
    "    return CFA[None,:]\n",
    "bayer_np = bayer(CFA)\n",
    "\n",
    "if PLOT:\n",
    "    plot_image_grid([img_np, bayer_np], 3,10 )\n"
   ]
  },
  {
   "cell_type": "code",
   "execution_count": null,
   "metadata": {},
   "outputs": [],
   "source": [
    "time_start = time.clock()\n",
    "\n",
    "Image = colour_demosaicing.demosaicing_CFA_Bayer_bilinear(CFA, pattern=u'RGGB')\n",
    "time_elapsed = (time.clock() - time_start)\n",
    "img = Image.transpose(2,0,1)\n",
    "img_pil =PIL.Image.fromarray(Image)\n",
    "\n",
    "img_pil.save('bilinear.png')\n",
    "if PLOT:\n",
    "    plot_image_grid([img_np,img], 3,10 )\n",
    "    \n",
    "print ('PSNR : %.4f   ' %  (compare_psnr(img_np, img)))\n",
    "print('Time for optimization: %f sec' %(time_elapsed))"
   ]
  },
  {
   "cell_type": "code",
   "execution_count": null,
   "metadata": {},
   "outputs": [],
   "source": [
    "Image1=colour_demosaicing.demosaicing_CFA_Bayer_Malvar2004(CFA, pattern=u'RGGB')\n",
    "img1 = Image1.transpose(2,0,1)\n",
    "if PLOT:\n",
    "    plot_image_grid([img_np,img1], 3,10 )\n",
    "    \n",
    "print ('PSNR : %.4f   ' %  (compare_psnr(img_np, img1)))"
   ]
  },
  {
   "cell_type": "code",
   "execution_count": null,
   "metadata": {},
   "outputs": [],
   "source": [
    "Image2=colour_demosaicing.demosaicing_CFA_Bayer_DDFAPD(CFA, pattern=u'RGGB', refining_step=True)\n",
    "img2 = Image2.transpose(2,0,1)\n",
    "if PLOT:\n",
    "    plot_image_grid([img_np,img2], 3,10 )\n",
    "    \n",
    "print ('PSNR : %.4f ' %  (compare_psnr(img_np, img2)))"
   ]
  },
  {
   "cell_type": "code",
   "execution_count": null,
   "metadata": {},
   "outputs": [],
   "source": [
    "Image3=colour_demosaicing.demosaicing_CFA_Bayer_Menon2007(CFA, pattern=u'RGGB', refining_step=True)\n",
    "img3 = Image3.transpose(2,0,1)\n",
    "if PLOT:\n",
    "    plot_image_grid([img_np,img3], 3,10 )\n",
    "    \n",
    "print ('PSNR : %.4f   ' %  (compare_psnr(img_np, img3)))"
   ]
  },
  {
   "cell_type": "code",
   "execution_count": null,
   "metadata": {},
   "outputs": [],
   "source": []
  }
 ],
 "metadata": {
  "kernelspec": {
   "display_name": "Python 3",
   "language": "python",
   "name": "python3"
  },
  "language_info": {
   "codemirror_mode": {
    "name": "ipython",
    "version": 3
   },
   "file_extension": ".py",
   "mimetype": "text/x-python",
   "name": "python",
   "nbconvert_exporter": "python",
   "pygments_lexer": "ipython3",
   "version": "3.6.1"
  }
 },
 "nbformat": 4,
 "nbformat_minor": 2
}
