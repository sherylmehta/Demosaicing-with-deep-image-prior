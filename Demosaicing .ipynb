{
 "cells": [
  {
   "cell_type": "markdown",
   "metadata": {},
   "source": [
    "# Import libs"
   ]
  },
  {
   "cell_type": "code",
   "execution_count": null,
   "metadata": {},
   "outputs": [],
   "source": [
    "from __future__ import print_function\n",
    "import matplotlib.pyplot as plt\n",
    "%matplotlib inline\n",
    "\n",
    "import os\n",
    "import time\n",
    "# os.environ['CUDA_VISIBLE_DEVICES'] = '1'\n",
    "import numpy as np\n",
    "from models import *\n",
    "\n",
    "from models.resnet import ResNet\n",
    "from models.unet import UNet\n",
    "from models.skip import skip\n",
    "from prettytable import PrettyTable\n",
    "import torch\n",
    "import torch.optim\n",
    "from skimage.measure import compare_psnr\n",
    "from skimage.measure import compare_ssim\n",
    "\n",
    "from utils.demosaicing_utils import *\n",
    "\n",
    "torch.backends.cudnn.enabled = True\n",
    "torch.backends.cudnn.benchmark = True\n",
    "dtype = torch.cuda.FloatTensor\n",
    "\n",
    "PLOT = True\n",
    "imsize = -1\n",
    "# dim_div_by = 64\n",
    "dataTable = PrettyTable(['Iteration', 'Loss', 'PSNR'])\n",
    "pattern='rggb'"
   ]
  },
  {
   "cell_type": "markdown",
   "metadata": {},
   "source": [
    "# Choose Image"
   ]
  },
  {
   "cell_type": "code",
   "execution_count": null,
   "metadata": {},
   "outputs": [],
   "source": [
    "fname='data/kodak/kodim19.png' "
   ]
  },
  {
   "cell_type": "markdown",
   "metadata": {},
   "source": [
    "# Load image and Mosaicing"
   ]
  },
  {
   "cell_type": "code",
   "execution_count": null,
   "metadata": {},
   "outputs": [],
   "source": [
    "img_pil = crop_image(get_image(fname, imsize)[0], d=32)\n",
    "img_np = pil_to_np(img_pil)\n",
    "im=img_np.transpose(1,2,0)\n",
    "\n",
    "img_bayer_np = bayer_mosaic(img_np,pattern)      # converting to bayer mosaic\n",
    "img_bayer_pil = np_to_pil(img_bayer_np)                # converting to PIL image\n",
    "img_bayer_pil.save('bayer.png')\n",
    "\n",
    "if PLOT:\n",
    "    plot_image_grid([img_np,img_bayer_np], 3,10 )"
   ]
  },
  {
   "cell_type": "markdown",
   "metadata": {},
   "source": [
    "# Set up parameters and Net"
   ]
  },
  {
   "cell_type": "code",
   "execution_count": null,
   "metadata": {},
   "outputs": [],
   "source": [
    "pad =  'reflection' \n",
    "OPT_OVER = 'net'\n",
    "OPTIMIZER = 'adam'\n",
    "# tv_weight = 1e-8\n",
    "# Same params and net as in super-resolution and denoising\n",
    "INPUT = 'noise'\n",
    "input_depth = 32\n",
    "LR = 0.01\n",
    "num_iter = 1800\n",
    "param_noise = False\n",
    "show_every = 50\n",
    "figsize = 8\n",
    "reg_noise_std = 0\n",
    "\n",
    "net = skip(input_depth, img_np.shape[0], \n",
    "               num_channels_down = [128]*5, \n",
    "               num_channels_up   = [128]*5,\n",
    "               num_channels_skip = [128]*5,\n",
    "               filter_size_up = 3, filter_size_down = 3,\n",
    "               upsample_mode='nearest', filter_skip_size=1,\n",
    "               need_sigmoid=True, need_bias=True, pad=pad, act_fun='LeakyReLU').type(dtype)\n",
    "    \n",
    "\n",
    "net = net.type(dtype)\n",
    "net_input = get_noise(input_depth, INPUT, img_np.shape[1:]).type(dtype)"
   ]
  },
  {
   "cell_type": "markdown",
   "metadata": {},
   "source": [
    "# No of Parameters"
   ]
  },
  {
   "cell_type": "code",
   "execution_count": null,
   "metadata": {
    "scrolled": false
   },
   "outputs": [],
   "source": [
    "# Compute number of parameters\n",
    "s  = sum(np.prod(list(p.size())) for p in net.parameters())\n",
    "print ('Number of params: %d' % s)\n",
    "\n",
    "# Loss\n",
    "mse = torch.nn.MSELoss().type(dtype)\n",
    "\n",
    "img_var = np_to_torch(img_np).type(dtype)\n",
    "mask_var = np_to_torch(img_bayer_np).type(dtype)\n"
   ]
  },
  {
   "cell_type": "markdown",
   "metadata": {},
   "source": [
    "# Main Loop"
   ]
  },
  {
   "cell_type": "code",
   "execution_count": null,
   "metadata": {
    "scrolled": false
   },
   "outputs": [],
   "source": [
    "i = 0\n",
    "x=list()\n",
    "y=list()\n",
    "z=list()\n",
    "\n",
    "\n",
    "def closure():\n",
    "    \n",
    "    global i, x , y, z\n",
    "            \n",
    "    if param_noise:\n",
    "        for n in [x for x in net.parameters() if len(x.size()) == 4]:\n",
    "            n = n + n.detach().clone().normal_() * n.std() / 50\n",
    "    \n",
    "    net_input = net_input_saved\n",
    "    if reg_noise_std > 0:\n",
    "        net_input = net_input_saved + (noise.normal_() * reg_noise_std)\n",
    "        \n",
    "    out = net(net_input)\n",
    "    bayer = bayer_mosaic_torch(out, dtype,pattern)\n",
    "   \n",
    "    total_loss = mse(bayer , mask_var)\n",
    "#     if tv_weight > 0:\n",
    "#         total_loss += tv_weight * tv_loss(out)\n",
    "    total_loss.backward()\n",
    "    \n",
    "    psnr = compare_psnr(img_np, torch_to_np(out))\n",
    "        \n",
    "    print ('Iteration %05d    Loss %f     PSNR %.3f' % (i, total_loss.item(), psnr), '\\r', end='')\n",
    "    dataTable.add_row([ i, total_loss.item(),psnr])\n",
    "    x.append(i)\n",
    "    y.append(psnr)\n",
    "    z.append(total_loss.item())\n",
    "   \n",
    "    \n",
    "    if  PLOT and i % show_every == 0:\n",
    "        \n",
    "        out_np = torch_to_np(out)\n",
    "        plot_image_grid([np.clip(img_np,0,1), np.clip(out_np, 0, 1)], factor=10, nrow=2)\n",
    "    \n",
    "    \n",
    "    i += 1\n",
    "    return total_loss\n",
    "\n",
    "net_input_saved = net_input.detach().clone()\n",
    "noise = net_input.detach().clone()\n",
    "\n",
    "time_start = time.clock()\n",
    "p = get_params(OPT_OVER, net, net_input)\n",
    "optimize(OPTIMIZER, p, closure, LR, num_iter)\n",
    "time_elapsed = (time.clock() - time_start)"
   ]
  },
  {
   "cell_type": "code",
   "execution_count": null,
   "metadata": {
    "scrolled": false
   },
   "outputs": [],
   "source": [
    "out_np = torch_to_np(net(net_input))\n",
    "plot_image_grid([img_np,  out_np ,np.abs(img_np-out_np)], factor=20);\n",
    "out_b=out_np.transpose(1,2,0)\n",
    "\n",
    "# print ('SSIM : %f   ' %  (compare_ssim(im, out_b, win_size=7, multichannel=True)))\n",
    "\n",
    "out = np_to_pil(out_np)\n",
    "out.save('image.png')"
   ]
  },
  {
   "cell_type": "code",
   "execution_count": null,
   "metadata": {
    "scrolled": false
   },
   "outputs": [],
   "source": [
    "plt.plot(x,y)\n",
    "plt.xlabel('Iteration')\n",
    "plt.ylabel('PSNR')\n",
    "plt.title('PSNR graph')\n",
    "# plt.ylim(25.0,30.0)\n",
    "# plt.rcParams[\"figure.figsize\"]=(20,10)\n",
    "\n",
    "plt.grid(True, linestyle = '-.')\n",
    "plt.tick_params(labelcolor= 'r', labelsize='large', width=5)\n",
    "plt.show()"
   ]
  },
  {
   "cell_type": "code",
   "execution_count": null,
   "metadata": {},
   "outputs": [],
   "source": [
    "plt.plot(x,z)\n",
    "plt.xlabel('Iteration')\n",
    "plt.ylabel('Loss')\n",
    "plt.title('Loss graph')\n",
    "plt.ylim(0.0000,0.00035)\n",
    "# plt.rcParams[\"figure.figsize\"]=(20,10)\n",
    "\n",
    "plt.grid(True, linestyle = '-.')\n",
    "plt.tick_params(labelcolor= 'r', labelsize='large', width=5)\n",
    "plt.show()"
   ]
  },
  {
   "cell_type": "code",
   "execution_count": null,
   "metadata": {
    "scrolled": true
   },
   "outputs": [],
   "source": [
    "print(dataTable)"
   ]
  },
  {
   "cell_type": "code",
   "execution_count": null,
   "metadata": {
    "scrolled": true
   },
   "outputs": [],
   "source": [
    "print ('SSIM for last image : %f   ' %  (compare_ssim(im, out_b, win_size=7, multichannel=True)))\n",
    "print(\"Maximum PSNR is {0}    at ITERATION -- %i\".format(max(y))  %y.index(max(y)))\n",
    "print(\"Maximum PSNR with Loss -- %f\\n\" %z[y.index(max(y))])\n",
    "\n",
    "print(\"Minimum Loss is {0}    at ITERATION -- %i\".format(min(z))  %z.index(min(z)))\n",
    "print(\"Minimum Loss with PSNR -- %f\\n\" %y[z.index(min(z))])\n",
    "\n",
    "print('Time for optimization: %f min' %(time_elapsed/60))"
   ]
  }
 ],
 "metadata": {
  "kernelspec": {
   "display_name": "Python 3",
   "language": "python",
   "name": "python3"
  },
  "language_info": {
   "codemirror_mode": {
    "name": "ipython",
    "version": 3
   },
   "file_extension": ".py",
   "mimetype": "text/x-python",
   "name": "python",
   "nbconvert_exporter": "python",
   "pygments_lexer": "ipython3",
   "version": "3.6.1"
  }
 },
 "nbformat": 4,
 "nbformat_minor": 2
}
